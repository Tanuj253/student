{
 "cells": [
  {
   "cell_type": "markdown",
   "metadata": {},
   "source": []
  },
  {
   "cell_type": "markdown",
   "metadata": {},
   "source": [
    "# Week 1:\n",
    "## Python IO:\n",
    "- From the Python directory run quiz.py in VS Code, this will show the workflow of Input and Output in the terminal\n",
    "- Build Jupiter notebook\n",
    "- Build a quiz that includes original questions and shows outputs\n",
    "- Create both markdowns for description and code for execution\n",
    "- Add comments to Python code\n",
    "## Additional requirements:\n",
    "- Build your quiz so that it captures the critical Vocabulary from this Jupyter document\n",
    "- Calculate the percentage of your quiz\n",
    "- Review the College Board Big Idea outline, and see if you can reference locations in Markdown that support vocabulary\n",
    "## Extra credit:\n",
    "- Do you see a repeating pattern of code? Try to implement a solution to avoid the repeating pattern (hint: list and iteration)\n",
    "\n",
    "\n",
    "## JavaScript input:\n",
    "- Making calculator\n",
    "\n",
    "\n",
    "## Linux Shell and Bash:\n",
    "- Come up with the process of how tools are installed.\n",
    "- Add blog notes.\n",
    "- What do we use to verify tool installation?\n",
    "- To update a repository we use ctrl+s and then run the make command in the terminal\n",
    "\n",
    "\n",
    "\n",
    "## Github pages anatomy:\n",
    "- Index.md is the file with markdowns\n",
    "- _includes/nave_home.html is the submenu\n",
    "\n",
    "## Style:\n",
    "- /assets/css/style.css has the import of style customization."
   ]
  }
 ],
 "metadata": {
  "language_info": {
   "name": "python"
  },
  "orig_nbformat": 4
 },
 "nbformat": 4,
 "nbformat_minor": 2
}
