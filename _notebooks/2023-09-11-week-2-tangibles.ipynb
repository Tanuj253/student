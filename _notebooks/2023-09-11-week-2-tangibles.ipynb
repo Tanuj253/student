{
 "cells": [
  {
   "cell_type": "markdown",
   "metadata": {},
   "source": [
    "---\n",
    "layout: post\n",
    "title: Week 2 tangibles\n",
    "description: Week 2 summary\n",
    "toc: true\n",
    "comments: false\n",
    "categories: [5.A, C4.1]\n",
    "courses: { compsci: {week: 2} }\n",
    "type: tangibles\n",
    "catagories: [(4.1)]\n",
    "---"
   ]
  },
  {
   "cell_type": "markdown",
   "metadata": {},
   "source": [
    "# Week 2: \n",
    "- We developed our website page and added notes. \n",
    "- We also created the tables for the lab notebooks and also the “compsci” and “blogs” page. \n",
    "- This allowed us to prepare for future projects. \n",
    "- A problem we faced was inserting pictures into the website. \n",
    "- Our first method to add pictures was by inserting the image name but the dimensions of the image were not right. \n"
   ]
  }
 ],
 "metadata": {
  "language_info": {
   "name": "python"
  },
  "orig_nbformat": 4
 },
 "nbformat": 4,
 "nbformat_minor": 2
}
