{
 "cells": [
  {
   "cell_type": "markdown",
   "metadata": {},
   "source": [
    "---\n",
    "layout: post\n",
    "title: Week 1 tangibles\n",
    "description: Week 1 summary\n",
    "toc: true\n",
    "comments: false\n",
    "categories: [5.A, C4.1]\n",
    "courses: { compsci: {week: 1} }\n",
    "type: tangibles\n",
    "catagories: [(4.1)]\n",
    "---"
   ]
  },
  {
   "cell_type": "markdown",
   "metadata": {},
   "source": [
    "# Week 1:\n",
    "- We worked on downloading essential programs and tools such as homebrew and ruby. \n",
    "- A problem that we encountered while this process was accessing the website directly from vscode. \n",
    "- We resolved this problem by opening the website from the github page rather than using the server address provided by vscode when running “make”.\n"
   ]
  }
 ],
 "metadata": {
  "language_info": {
   "name": "python"
  },
  "orig_nbformat": 4
 },
 "nbformat": 4,
 "nbformat_minor": 2
}
