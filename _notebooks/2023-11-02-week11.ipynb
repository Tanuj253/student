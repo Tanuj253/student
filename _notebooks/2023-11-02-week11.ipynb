{
 "cells": [
  {
   "cell_type": "markdown",
   "metadata": {},
   "source": [
    "---\n",
    "layout: post\n",
    "title: Week 11 Notes\n",
    "description: Week 11 done list\n",
    "toc: true\n",
    "comments: false\n",
    "categories: [5.A, C4.1]\n",
    "courses: { compsci: {week: 11} }\n",
    "type: tangibles\n",
    "---"
   ]
  },
  {
   "cell_type": "markdown",
   "metadata": {},
   "source": [
    "# Polishing code with Chris and reviewing each other's code.\n",
    " Found that verifying user data was pointless so we commented it out through Tarun's computer\n",
    "\n",
    "# Worked with Tejas to ensure the transfer of data was fully functional:"
   ]
  },
  {
   "cell_type": "code",
   "execution_count": null,
   "metadata": {
    "vscode": {
     "languageId": "javascript"
    }
   },
   "outputs": [],
   "source": [
    "        document.getElementById('recipeForm').addEventListener('submit', function (event) {\\n\"\n",
    "            event.preventDefault();\\n\"\n",
    "            const apiKey = '84cfe45628de456c87a13a80b76f5bd8'; // Replace with your Spoonacular API key\\n\"\n",
    "            const ingredients = document.getElementById('ingredients').value;\\n\"\n",
    "            const apiUrl = `https://api.spoonacular.com/recipes/findByIngredients?apiKey=${apiKey}&ingredients=${ingredients}`;\\n\"\n",
    "            fetch(apiUrl)\\n\""
   ]
  },
  {
   "cell_type": "markdown",
   "metadata": {},
   "source": [
    "# Final backend code that I contributed to:"
   ]
  },
  {
   "cell_type": "code",
   "execution_count": null,
   "metadata": {},
   "outputs": [],
   "source": [
    "import json\n",
    "from flask import Blueprint, request, jsonify\n",
    "import requests\n",
    "from flask_restful import Api, Resource # used for REST API building\n",
    "from datetime import datetime\n",
    "\n",
    "from model.users import User\n",
    "\n",
    "recipe_api = Blueprint('recipe_api', __name__,\n",
    "                   url_prefix='/api/recipes')\n",
    "\n",
    "# API docs https://flask-restful.readthedocs.io/en/latest/api.html\n",
    "api = Api(recipe_api)\n",
    "\n",
    "class UserAPI:        \n",
    "    class _CRUD(Resource):  # User API operation for Create, Read.  THe Update, Delete methods need to be implemeented\n",
    "        def get(self, ingredients): # Create method\n",
    "            api_key = '84cfe45628de456c87a13a80b76f5bd8'  # Replace with your Spoonacular API key\n",
    "            url = f\"https://api.spoonacular.com/recipes/findByIngredients?apiKey={api_key}&ingredients=\" + ingredients\n",
    "            response = requests.get(url)\n",
    "            if response.status_code == 200:\n",
    "                data = response.json()\n",
    "                return jsonify(data)\n",
    "            else:\n",
    "                #return jsonify({\"error\": \"Failed to fetch recipes.\"}), response.status_code\n",
    "             return {'message': f'hello'}, 400\n",
    "        \n",
    "    # class _Security(Resource):\n",
    "\n",
    "    #     def post(self):\n",
    "    #         ''' Read data for json body '''\n",
    "    #         body = request.get_json()\n",
    "            \n",
    "    #         ''' Get Data '''\n",
    "    #         uid = body.get('uid')\n",
    "    #         if uid is None or len(uid) < 2:\n",
    "    #             return {'message': f'User ID is missing, or is less than 2 characters'}, 400\n",
    "    #         password = body.get('password')\n",
    "            \n",
    "    #         ''' Find user '''\n",
    "    #         user = User.query.filter_by(_uid=uid).first()\n",
    "    #         if user is None or not user.is_password(password):\n",
    "    #             return {'message': f\"Invalid user id or password\"}, 400\n",
    "            \n",
    "    #         ''' authenticated user '''\n",
    "    #         return jsonify(user.read())\n",
    "\n",
    "            \n",
    "\n",
    "    # building RESTapi endpoint\n",
    "    #api.add_resource(_CRUD, '/')\n",
    "    #api.add_resource(_Security, '/authenticate')\n",
    "    api.add_resource(_CRUD, '/getrecipes/<ingredients>')"
   ]
  }
 ],
 "metadata": {
  "language_info": {
   "name": "python"
  }
 },
 "nbformat": 4,
 "nbformat_minor": 2
}
