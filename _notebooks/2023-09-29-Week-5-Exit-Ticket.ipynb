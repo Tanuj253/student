{
 "cells": [
  {
   "cell_type": "markdown",
   "metadata": {},
   "source": [
    "---\n",
    "layout: post\n",
    "title: Week 5 Exit Ticket\n",
    "description: Summary of Web development basics\n",
    "toc: true\n",
    "comments: true\n",
    "categories: [5.A, C4.1]\n",
    "courses: { compsci: {week: 5} }\n",
    "type: tangibles\n",
    "catagories: [(4.1)]\n",
    "---"
   ]
  },
  {
   "cell_type": "markdown",
   "metadata": {},
   "source": [
    "# Skills:\n",
    "This review ticket essentially serves as a showcase, where we will exhibit our projects, the innovative solutions we implemented, and the skills we honed during our learning journey.\n",
    "\n",
    "# What We Learned:\n",
    "The learning journey I took covered Linux proficiency, JavaScript in web development, advanced debugging with code comments, and collaberation. These skills enable me to confidently address diverse tech challenges. throught this, I am able to say that I am somewhat poficient in Web development basics."
   ]
  },
  {
   "cell_type": "markdown",
   "metadata": {},
   "source": [
    "<script src=\"https://utteranc.es/client.js\"\n",
    "        repo=\"student-1\"\n",
    "        issue-term=\"pathname\"\n",
    "        theme=\"github-light\"\n",
    "        crossorigin=\"anonymous\"\n",
    "        async>\n",
    "</script>"
   ]
  }
 ],
 "metadata": {
  "language_info": {
   "name": "python"
  },
  "orig_nbformat": 4
 },
 "nbformat": 4,
 "nbformat_minor": 2
}
