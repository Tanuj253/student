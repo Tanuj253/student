{
 "cells": [
  {
   "cell_type": "markdown",
   "metadata": {},
   "source": [
    "---\n",
    "layout: post\n",
    "title: Iterations\n",
    "Description: Day 4 of peer teach hw\n",
    "toc: true\n",
    "comments: true\n",
    "categories: [5.A, C4.1]\n",
    "courses: { compsci: {week: 8}}\n",
    "type: hacks\n",
    "catagories: [(4.1)]\n",
    "---"
   ]
  },
  {
   "cell_type": "code",
   "execution_count": null,
   "metadata": {
    "vscode": {
     "languageId": "javascript"
    }
   },
   "outputs": [],
   "source": [
    "def simulate_daily_life(activity_index):\n",
    "    daily_activities = [\n",
    "        “Wake up”,\n",
    "        “Get dressed”,\n",
    "        “Have breakfast”,\n",
    "        “Go to work”,\n",
    "        “Lunch break”,\n",
    "        “Continue working”,\n",
    "        “Return home”,\n",
    "        “Have dinner”,\n",
    "        “Relax”,\n",
    "        “Go to bed”,\n",
    "    ]\n",
    "    if activity_index < len(daily_activities):\n",
    "        print(f”Now: {daily_activities[activity_index]}“)\n",
    "        simulate_daily_life(activity_index + 1)\n",
    "    else:\n",
    "        print(“End of the day.“)\n",
    "print(“A new day begins.“)\n",
    "simulate_daily_life(0)"
   ]
  }
 ],
 "metadata": {
  "language_info": {
   "name": "python"
  }
 },
 "nbformat": 4,
 "nbformat_minor": 2
}
