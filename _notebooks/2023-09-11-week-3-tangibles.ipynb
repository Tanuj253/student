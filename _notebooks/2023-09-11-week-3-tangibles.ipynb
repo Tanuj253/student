{
 "cells": [
  {
   "cell_type": "markdown",
   "metadata": {},
   "source": [
    "---\n",
    "layout: post\n",
    "title: Week 3 tangibles\n",
    "description: Week 3 summary\n",
    "toc: true\n",
    "comments: false\n",
    "categories: [5.A, C4.1]\n",
    "courses: { compsci: {week: 3} }\n",
    "type: tangibles\n",
    "catagories: [(4.1)]\n",
    "---"
   ]
  },
  {
   "cell_type": "markdown",
   "metadata": {},
   "source": [
    "# Week 3:\n",
    "- We added new hacks to our website such as snake game, the game of life, and a calculator. \n",
    "- We inserted these games as a “.md”. \n",
    "- We also added python tricks such as inserting emojis and exploring data with newspaper and wiki libraries. \n",
    "- Had trouble with running make and not having correct command lines. \n",
    "- We resolved this problem by defining the problems key which we hadnt done before.\n"
   ]
  }
 ],
 "metadata": {
  "language_info": {
   "name": "python"
  },
  "orig_nbformat": 4
 },
 "nbformat": 4,
 "nbformat_minor": 2
}
