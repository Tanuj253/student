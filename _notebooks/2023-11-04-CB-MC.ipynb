{
 "cells": [
  {
   "cell_type": "markdown",
   "metadata": {},
   "source": [
    "---\n",
    "layout: post\n",
    "title: Tri 1 MC\n",
    "description: Tri 1 MC corrections\n",
    "toc: true\n",
    "comments: false\n",
    "categories: [5.A, C4.1]\n",
    "courses: { compsci: {week: 11} }\n",
    "type: tangibles\n",
    "---"
   ]
  },
  {
   "cell_type": "markdown",
   "metadata": {},
   "source": [
    "# Number 33 review:\n",
    "I didnt realize that the answer was doing one or the other due to and if else meaning only one would be validated. so the answer above it; A; was right.\n",
    "\n",
    "# Number 50 review:\n",
    "I got the answer half right with #2 but 3 was not right because the list didnt need to be sorted since the list was checked until it found what it needed.\n",
    "\n",
    "# Number 52 review:\n",
    "Lowkey I misclicked. but an explanation of why I got this wrong is that step #1 does the steps in the wrong order by shortening before keeping the palidromes open.\n",
    "\n",
    "# Number 59 review:\n",
    "Wrong b/c adding in extra storage would be taking up more space rather than using weaker files to downgrade the rest.\n",
    "\n",
    "# Number 60 Review:\n",
    "Using shorter variable names would not help a programmer to manage the complexity of a program. Using more direct meaning variables help with clarity which is always preferable.\n",
    "\n",
    "# Number 61 Review:\n",
    "The answer was d not b b/c the absences would give away the students id rather than the opposite which I clicked."
   ]
  }
 ],
 "metadata": {
  "kernelspec": {
   "display_name": "Python 3",
   "language": "python",
   "name": "python3"
  },
  "language_info": {
   "codemirror_mode": {
    "name": "ipython",
    "version": 3
   },
   "file_extension": ".py",
   "mimetype": "text/x-python",
   "name": "python",
   "nbconvert_exporter": "python",
   "pygments_lexer": "ipython3",
   "version": "3.11.6"
  }
 },
 "nbformat": 4,
 "nbformat_minor": 2
}
