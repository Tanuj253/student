{
 "cells": [
  {
   "cell_type": "markdown",
   "metadata": {},
   "source": [
    "---\n",
    "layout: post\n",
    "title: Tri 1 MC\n",
    "description: Tri 1 MC corrections\n",
    "toc: true\n",
    "comments: false\n",
    "categories: [5.A, C4.1]\n",
    "courses: { compsci: {week: 11} }\n",
    "type: tangibles\n",
    "---"
   ]
  },
  {
   "cell_type": "markdown",
   "metadata": {},
   "source": [
    "# Number 33 review:\n",
    "I didnt realize that the answer was doing one or the other due to and if else meaning only one would be validated. The flowchart sets include to true whenever floor is greater than 1 0 or bedrooms equal 3, and sets include to false otherwise. Therefore, the algorithm is equivalent to Include, left arrow, open parenthesis, floor greater than 10, close parenthesis, OR, open parenthesis, bedrooms equal 3, close parenthesis. This means A was right.\n",
    "\n",
    "# Number 50 review:\n",
    "I got the answer half right with #2 but 3 was not right because the list didnt need to be sorted since the list was checked until it found what it needed. The answer was B b/c the procedure implements a linear search, which sequentially compares each element of the list with the target value. The list does not need to be sorted because the procedure checks list elements until either the target is found or it reaches the end of the list.\n",
    "\n",
    "# Number 52 review:\n",
    "Lowkey I misclicked. but an explanation of why I got this wrong is that step #1 does the steps in the wrong order by shortening before keeping the palidromes open. Options II and III perform the steps in a correct order. In order to generate the desired list, the algorithm must perform the \"shorten\" step after the \"keep palindromes\" step, otherwise the \"keep palindromes\" step would not be able to determine whether the original word was a palindrome. This makes D right.\n",
    "\n",
    "# Number 59 review:\n",
    "Wrong b/c adding in extra storage would be taking up more space rather than using weaker files to downgrade the rest. Using lossy compression will provide only an approximation of the original video data. The full-quality original versions of the videos will be lost if lossy compression is used. This makes B right.\n",
    "\n",
    "# Number 60 Review:\n",
    "Using shorter variable names would not help a programmer to manage the complexity of a program. Using more direct meaning variables help with clarity which is always preferable. Placing repeated code with procedure calls is an example of a procedural abstraction that may make it easier for a programmer to manage the complexity of a program. This means that A and D are correct.\n",
    "\n",
    "# Number 61 Review:\n",
    "The answer was d not b b/c the absences would give away the students id rather than the opposite which I clicked. It is possible to determine the average number of days students are absent. Both data formats provide the number of absences for each student so D is right."
   ]
  }
 ],
 "metadata": {
  "kernelspec": {
   "display_name": "Python 3",
   "language": "python",
   "name": "python3"
  },
  "language_info": {
   "codemirror_mode": {
    "name": "ipython",
    "version": 3
   },
   "file_extension": ".py",
   "mimetype": "text/x-python",
   "name": "python",
   "nbconvert_exporter": "python",
   "pygments_lexer": "ipython3",
   "version": "3.11.6"
  }
 },
 "nbformat": 4,
 "nbformat_minor": 2
}
