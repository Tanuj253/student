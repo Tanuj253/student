{
 "cells": [
  {
   "cell_type": "markdown",
   "metadata": {},
   "source": [
    "---\n",
    "layout: post\n",
    "title: Algorithms\n",
    "Description: Day 2 of peer teach hw\n",
    "toc: true\n",
    "comments: false\n",
    "categories: [5.A, C4.1]\n",
    "courses: { compsci: {week: 7}}\n",
    "type: hacks\n",
    "catagories: [(4.1)]\n",
    "---"
   ]
  },
  {
   "cell_type": "code",
   "execution_count": null,
   "metadata": {
    "vscode": {
     "languageId": "javascript"
    }
   },
   "outputs": [],
   "source": [
    "function avgGradeCalc(array) {\n",
    "    var grade = 0;\n",
    "    var count = 0;\n",
    "\n",
    "    jQuery.each(array, function(index, value) {\n",
    "        grade += value;\n",
    "        count++;\n",
    "    });\n",
    "\n",
    "    return grade / count;\n",
    "}\n",
    "\n",
    "var arry = [84, 83, 97, 93];\n",
    "var averageGrade = avgGradeCalc(arry);\n",
    "\n",
    "console.log(\"Your average grade is \" + averageGrade + \"%\");"
   ]
  },
  {
   "cell_type": "code",
   "execution_count": null,
   "metadata": {},
   "outputs": [],
   "source": [
    "def palindrome_homework(word):\n",
    "    return word == word[::-1]\n",
    "\n",
    "user_input = input(\"Enter a word with only lowercase and 0 spaces: \")\n",
    "\n",
    "if palindrome_homework(user_input):\n",
    "    print(\"Palindrome!\")\n",
    "else:\n",
    "    print(\"This is not a palindrome\")\n"
   ]
  },
  {
   "cell_type": "markdown",
   "metadata": {},
   "source": [
    "## Summary:\n",
    "\n",
    "## String Operations:\n",
    "# Length function finds the string length.\n",
    "# String concatenation combines strings.\n",
    "# Substringing extracts a range of characters.\n",
    "\n",
    "## String Algorithm - Palindrome:\n",
    "# Converts input string to a palindrome.\n",
    "# Optionally duplicates the last character.\n",
    "\n",
    "## Popcorn Hack - Finding Index:\n",
    "# An algorithm to find the index of a character in a string.\n",
    "\n",
    "## Homework Hack for Strings:\n",
    "# Challenge to detect palindromes in strings.\n",
    "\n",
    "## Math Algorithm - Fibonacci Sequence:\n",
    "# Generates the first n Fibonacci numbers.\n",
    "# Requires n > 1.\n",
    "\n",
    "## Popcorn Hack - Fixing Fibonacci:\n",
    "# Requests input to fix Fibonacci sequence code.\n",
    "\n",
    "## Sorting Algorithm - Bubble Sort:\n",
    "# Sorts an integer array with bubble sort."
   ]
  }
 ],
 "metadata": {
  "language_info": {
   "name": "python"
  }
 },
 "nbformat": 4,
 "nbformat_minor": 2
}
