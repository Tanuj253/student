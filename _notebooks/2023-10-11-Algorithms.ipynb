{
 "cells": [
  {
   "cell_type": "markdown",
   "metadata": {},
   "source": [
    "---\n",
    "layout: post\n",
    "title: Algorithms\n",
    "Description: Day 2 of peer teach hw\n",
    "toc: true\n",
    "comments: false\n",
    "categories: [5.A, C4.1]\n",
    "courses: { compsci: {week: 6}}\n",
    "type: hacks\n",
    "catagories: [(4.1)]\n",
    "---"
   ]
  },
  {
   "cell_type": "code",
   "execution_count": null,
   "metadata": {
    "vscode": {
     "languageId": "javascript"
    }
   },
   "outputs": [],
   "source": [
    "function avgGradeCalc(array) {\n",
    "    var grade = 0;\n",
    "    var count = 0;\n",
    "\n",
    "    jQuery.each(array, function(index, value) {\n",
    "        grade += value;\n",
    "        count++;\n",
    "    });\n",
    "\n",
    "    return grade / count;\n",
    "}\n",
    "\n",
    "var arry = [84, 83, 97, 93];\n",
    "var averageGrade = avgGradeCalc(arry);\n",
    "\n",
    "console.log(\"Your average grade is \" + averageGrade + \"%\");"
   ]
  },
  {
   "cell_type": "code",
   "execution_count": null,
   "metadata": {},
   "outputs": [],
   "source": [
    "def palindrome_homework(word):\n",
    "    return word == word[::-1]\n",
    "\n",
    "user_input = input(\"Enter a word with only lowercase and 0 spaces: \")\n",
    "\n",
    "if palindrome_homework(user_input):\n",
    "    print(\"Palindrome!\")\n",
    "else:\n",
    "    print(\"This is not a palindrome\")\n"
   ]
  }
 ],
 "metadata": {
  "language_info": {
   "name": "python"
  }
 },
 "nbformat": 4,
 "nbformat_minor": 2
}
