{
 "cells": [
  {
   "cell_type": "markdown",
   "metadata": {},
   "source": [
    "---\n",
    "layout: post\n",
    "title: Review Ticket\n",
    "description: Week 3 review ticket\n",
    "toc: true\n",
    "comments: false\n",
    "categories: [5.A, C4.1]\n",
    "courses: { compsci: {week: 3} }\n",
    "type: tangibles\n",
    "catagories: [(4.1)]\n",
    "---"
   ]
  },
  {
   "cell_type": "code",
   "execution_count": 1,
   "metadata": {},
   "outputs": [
    {
     "name": "stdout",
     "output_type": "stream",
     "text": [
      "👍 Python is awesome! 😀\n"
     ]
    }
   ],
   "source": [
    "#!pip install emoji\n",
    "from emoji import emojize\n",
    "print(emojize(\":thumbs_up: Python is awesome! :grinning_face:\"))"
   ]
  }
 ],
 "metadata": {
  "kernelspec": {
   "display_name": "Python 3",
   "language": "python",
   "name": "python3"
  },
  "language_info": {
   "codemirror_mode": {
    "name": "ipython",
    "version": 3
   },
   "file_extension": ".py",
   "mimetype": "text/x-python",
   "name": "python",
   "nbconvert_exporter": "python",
   "pygments_lexer": "ipython3",
   "version": "3.10.12"
  },
  "orig_nbformat": 4
 },
 "nbformat": 4,
 "nbformat_minor": 2
}
