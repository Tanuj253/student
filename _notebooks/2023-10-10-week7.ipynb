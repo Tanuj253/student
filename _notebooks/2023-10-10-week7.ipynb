{
 "cells": [
  {
   "cell_type": "markdown",
   "metadata": {},
   "source": [
    "---\n",
    "layout: post\n",
    "title: Week 7 Notes\n",
    "description: Week 7 done list\n",
    "toc: true\n",
    "comments: false\n",
    "categories: [5.A, C4.1]\n",
    "courses: { compsci: {week: 7} }\n",
    "type: tangibles\n",
    "---"
   ]
  },
  {
   "cell_type": "markdown",
   "metadata": {},
   "source": [
    "# Researched for possible projects\n",
    "\n",
    "# I found a flappy bird idea, a weight-lifting idea, and a recipe-finding idea.\n",
    " The flappy bird was shot down so we still have the weight-lifting and recipe-finding idea\n",
    "\n",
    "# We found an API for both weightlifting and recipe-finding ideas:\n",
    "Weight lifting API: https://www.kaggle.com/datasets/open-powerlifting/powerlifting-database\n",
    "Recipe finding API: https://developer.edamam.com/edamam-recipe-api"
   ]
  }
 ],
 "metadata": {
  "language_info": {
   "name": "python"
  }
 },
 "nbformat": 4,
 "nbformat_minor": 2
}
