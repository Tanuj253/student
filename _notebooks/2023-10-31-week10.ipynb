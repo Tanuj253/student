{
 "cells": [
  {
   "cell_type": "markdown",
   "metadata": {},
   "source": [
    "---\n",
    "layout: post\n",
    "title: Week 10 Notes\n",
    "description: Week 10 done list\n",
    "toc: true\n",
    "comments: false\n",
    "categories: [5.A, C4.1]\n",
    "courses: { compsci: {week: 10} }\n",
    "type: tangibles\n",
    "---"
   ]
  },
  {
   "cell_type": "markdown",
   "metadata": {},
   "source": [
    "# Chris worked on reading user data and receiving the JSON data from the API\n",
    "\n",
    "# Need to start wrapping up for qualifications\n",
    "\n",
    "# Continued to debug the fail-safe which arose with problems. Remade the code to this so far:"
   ]
  },
  {
   "cell_type": "code",
   "execution_count": null,
   "metadata": {},
   "outputs": [],
   "source": [
    "recipe_api = Blueprint('recipe_api', __name__,\n",
    "                   url_prefix='/api/recipes')\n",
    "\n",
    "# API docs https://flask-restful.readthedocs.io/en/latest/api.html\n",
    "api = Api(recipe_api)\n",
    "\n",
    "class UserAPI:        \n",
    "    class _CRUD(Resource):  # User API operation for Create, Read.  THe Update, Delete methods need to be implemeented\n",
    "        def get(self, ingredients): # Create method\n",
    "            api_key = '84cfe45628de456c87a13a80b76f5bd8'  # Replace with your Spoonacular API key\n",
    "            url = f\"https://api.spoonacular.com/recipes/findByIngredients?apiKey={api_key}&ingredients=\" + ingredients\n",
    "            response = requests.get(url)\n",
    "            if response.status_code == 200:\n",
    "                data = response.json()\n",
    "                return jsonify(data)\n",
    "            else:\n",
    "                #return jsonify({\"error\": \"Failed to fetch recipes.\"}), response.status_code\n",
    "             return {'message': f'hello'}, 400"
   ]
  }
 ],
 "metadata": {
  "language_info": {
   "name": "python"
  }
 },
 "nbformat": 4,
 "nbformat_minor": 2
}
