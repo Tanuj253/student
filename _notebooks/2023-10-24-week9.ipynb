{
 "cells": [
  {
   "cell_type": "markdown",
   "metadata": {},
   "source": [
    "---\n",
    "layout: post\n",
    "title: Week 9 Notes\n",
    "description: Week 9 done list\n",
    "toc: true\n",
    "comments: false\n",
    "categories: [5.A, C4.1]\n",
    "courses: { compsci: {week: 9} }\n",
    "type: tangibles\n",
    "catagories: [(4.1)]\n",
    "---"
   ]
  },
  {
   "cell_type": "markdown",
   "metadata": {},
   "source": [
    "# Learned that we cannot use teacher clone repo to hold the project.\n",
    "\n",
    "# Began transferring code to the new backend repo through Tarun's computer.\n",
    "\n",
    "# Stayed on local host for temporary ease.\n",
    "\n",
    "# Created a fail safe in case jason data does not go through:"
   ]
  },
  {
   "cell_type": "code",
   "execution_count": null,
   "metadata": {},
   "outputs": [],
   "source": [
    "class UserAPI:        \n",
    "    class _CRUD(Resource):  # User API operation for Create, Read.  THe Update, Delete methods need to be implemeented\n",
    "        def get(self, ingredients): # Create method\n",
    "            api_key = '84cfe45628de456c87a13a80b76f5bd8'  # Replace with your Spoonacular API key\n",
    "            url = f\"https://api.spoonacular.com/recipes/findByIngredients?apiKey={api_key}&ingredients=\" + ingredients\n",
    "            response = requestsget(url)\n",
    "            if response.status_code == 200:\n",
    "                data = response.json()\n",
    "                return jsonify(data)\n",
    "            else:\n",
    "                #return jsonify({\"error\": \"Failed to fetch recipes.\"}), response.status_code\n",
    "             return {'message': f'hello'}, 400"
   ]
  }
 ],
 "metadata": {
  "language_info": {
   "name": "python"
  }
 },
 "nbformat": 4,
 "nbformat_minor": 2
}
