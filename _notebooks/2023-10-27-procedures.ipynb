{
 "cells": [
  {
   "cell_type": "markdown",
   "metadata": {},
   "source": [
    "---\n",
    "layout: post\n",
    "title: Procedures HW\n",
    "Description: Procedures hw\n",
    "toc: true\n",
    "comments: true\n",
    "categories: [5.A, C4.1]\n",
    "courses: { compsci: {week: 7}}\n",
    "type: hacks\n",
    "catagories: [(4.1)]\n",
    "---"
   ]
  },
  {
   "cell_type": "code",
   "execution_count": null,
   "metadata": {},
   "outputs": [],
   "source": [
    "# Define a list of numbers\n",
    "numbers = [1, 3, 5, 7, 9, 11, 13, 15, 17, 19]\n",
    "\n",
    "# Get the length of the list\n",
    "list_length = len(numbers)\n",
    "\n",
    "# Calculate the sum of the first half of the list\n",
    "sum_first_half = sum(numbers[:list_length // 2])\n",
    "\n",
    "# Print the result\n",
    "print(sum_first_half)"
   ]
  },
  {
   "cell_type": "code",
   "execution_count": null,
   "metadata": {},
   "outputs": [],
   "source": [
    "import math\n",
    "\n",
    "def worst_case_iterations(array_length):\n",
    "    return math.ceil(math.log2(array_length))\n",
    "\n",
    "# Calculate worst-case iterations for an array of length 20\n",
    "worst_case_iterations_20 = worst_case_iterations(20)\n",
    "\n",
    "print(f\"Worst-case iterations for an array of length 20: {worst_case_iterations_20}\")\n"
   ]
  },
  {
   "cell_type": "markdown",
   "metadata": {},
   "source": [
    "# Summary\n",
    "# 3.12 Parts of a Procedure:\n",
    "Procedures are named sets of instructions (also called methods or functions).\n",
    "Parameters are input values.\n",
    "A procedure call interrupts program flow, executing the procedure, and then continuing.\n",
    "Procedures simplify code by reusing instructions.\n",
    "\n",
    "# Popcorn Hack 1:\n",
    "Explains return values and output parameters.\n",
    "\n",
    "# Popcorn Hack 2:\n",
    "Create a Python program for generating multiplication tables.\n",
    "\n",
    "# Anatomy of Python Classes:\n",
    "Class definition with attributes, methods, constructor, and self."
   ]
  }
 ],
 "metadata": {
  "language_info": {
   "name": "python"
  }
 },
 "nbformat": 4,
 "nbformat_minor": 2
}
