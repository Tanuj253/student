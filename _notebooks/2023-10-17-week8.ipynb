{
 "cells": [
  {
   "cell_type": "markdown",
   "metadata": {},
   "source": [
    "---\n",
    "layout: post\n",
    "title: Week 8 Notes\n",
    "description: Week 8 done list\n",
    "toc: true\n",
    "comments: false\n",
    "categories: [5.A, C4.1]\n",
    "courses: { compsci: {week: 8} }\n",
    "type: tangibles\n",
    "catagories: [(4.1)]\n",
    "---"
   ]
  },
  {
   "cell_type": "markdown",
   "metadata": {},
   "source": [
    "## Finalized on recipe finding API:\n",
    "# b/c weight lifting would require a lot more code and work that surpasses this class and goes into CSA\n",
    "\n",
    "## Different and better-suited API for this project: https://spoonacular.com/food-api\n",
    "\n",
    "## Began code for importing Jason data:"
   ]
  },
  {
   "cell_type": "code",
   "execution_count": null,
   "metadata": {},
   "outputs": [],
   "source": [
    "class UserAPI:        \n",
    "    class _CRUD(Resource):  # User API operation for Create, Read.  THe Update, Delete methods need to be implemeented\n",
    "        def get(self, ingredients): # Create method\n",
    "            api_key = '84cfe45628de456c87a13a80b76f5bd8'  # Replace with your Spoonacular API key\n",
    "            url = f\"https://api.spoonacular.com/recipes/findByIngredients?apiKey={api_key}&ingredients=\" + ingredients\n",
    "            response = requests.get(url)\n",
    "                data = response.json()\n",
    "                return jsonify(data)"
   ]
  }
 ],
 "metadata": {
  "language_info": {
   "name": "python"
  }
 },
 "nbformat": 4,
 "nbformat_minor": 2
}
