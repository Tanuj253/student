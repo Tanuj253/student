{
 "cells": [
  {
   "cell_type": "markdown",
   "metadata": {},
   "source": [
    "---\n",
    "layout: post\n",
    "title: Lists HW\n",
    "Description: Peer teach hw\n",
    "toc: true\n",
    "comments: true\n",
    "categories: [5.A, C4.1]\n",
    "courses: { compsci: {week: 7}}\n",
    "type: hacks\n",
    "catagories: [(4.1)]\n",
    "---"
   ]
  },
  {
   "cell_type": "code",
   "execution_count": null,
   "metadata": {},
   "outputs": [],
   "source": [
    "# Get the number of students from the user\n",
    "n = int(input(\"How many students are there?\"))\n",
    "\n",
    "# Create a list of grades for each student\n",
    "ListOfGrades = [float(input(\"Enter the grade of student \" + str(i + 1) + \":\")) for i in range(n)]\n",
    "\n",
    "# Initialize a variable to calculate the sum of grades\n",
    "sumvalue = 0\n",
    "\n",
    "# Calculate the sum of all grades\n",
    "for grade in ListOfGrades:\n",
    "    sumvalue += grade\n",
    "\n",
    "# Calculate and print the average grade of the class\n",
    "average_grade = sumvalue / n\n",
    "print(\"The average grade of the class is:\", average_grade)"
   ]
  },
  {
   "cell_type": "code",
   "execution_count": null,
   "metadata": {},
   "outputs": [],
   "source": [
    "import math\n",
    "\n",
    "# Calculate the base-2 logarithm of 20\n",
    "value = math.log2(20)\n",
    "\n",
    "# Check if the value is a floating-point number or an integer\n",
    "if float(value) > float(int(value)):\n",
    "    # If it's a floating-point number, round it up to the nearest integer\n",
    "    value = int(value) + 1\n",
    "else:\n",
    "    # If it's already an integer, keep it as is\n",
    "    value = int(value)\n",
    "\n",
    "# Print the worst iteration count for binary search\n",
    "print(value, \" is the worst iteration count for binary search\")\n"
   ]
  },
  {
   "cell_type": "markdown",
   "metadata": {},
   "source": [
    "# 3\n",
    "The answer is A because the program doubles all the elements within the list"
   ]
  }
 ],
 "metadata": {
  "language_info": {
   "name": "python"
  }
 },
 "nbformat": 4,
 "nbformat_minor": 2
}
