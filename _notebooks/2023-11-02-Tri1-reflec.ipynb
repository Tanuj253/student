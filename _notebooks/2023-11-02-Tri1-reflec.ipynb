{
 "cells": [
  {
   "cell_type": "markdown",
   "metadata": {},
   "source": [
    "---\n",
    "layout: post\n",
    "title: Tri 1 summary\n",
    "description: Tri 1 reflection\n",
    "toc: true\n",
    "comments: false\n",
    "categories: [5.A, C4.1]\n",
    "courses: { compsci: {week: 10} }\n",
    "type: tangibles\n",
    "---"
   ]
  },
  {
   "cell_type": "markdown",
   "metadata": {},
   "source": [
    "# First 5 weeks(Unit 1):\n",
    "Through these first few weeks I learned alot. We started off through the basics of home on a local host and moved towards github. We developed the following skills in a website page:\n",
    "- importing images onto pages.\n",
    "- inserting games and debuging them.\n",
    "- learned how to use a markdown and its formatting\n",
    "- basics of html\n",
    "- basics of js\n",
    "- combining topics together\n",
    "\n",
    "\n",
    "# Last 7 weeks(Unit 2):\n",
    "we began teaching our peers how to go over many concepts. Summaries of this can be found in each hw. My group learned how to develop algoristhms to teach the class. Personally I learned alot to be able to do different tasks faster through algorithms making them open ended to fast made simple algorithms which make life easier. while we talk about making life easier, our research project was hard work. We first went through a process to find out what we would do. as we iterated through ideas, we came to a backwards recipe finder. By using an API as the backend developer, I imported all the data  from the api to be available to Tejas for a display. it took about three weeks working with Chris but we managed to pull through in the end. we had enough time to help in the design process and ensure that our front end was as asthetically pleasing as possible. When night at the meuseum rolled around, my job was introducing our project. I genuinly had alot of fun presenting and showing adults a real life usecase of such a simple project. "
   ]
  }
 ],
 "metadata": {
  "language_info": {
   "name": "python"
  }
 },
 "nbformat": 4,
 "nbformat_minor": 2
}
