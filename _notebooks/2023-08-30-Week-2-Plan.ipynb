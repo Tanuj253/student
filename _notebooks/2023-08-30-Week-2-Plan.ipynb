{
 "cells": [
  {
   "cell_type": "markdown",
   "metadata": {},
   "source": [
    "---\n",
    "layout: post\n",
    "title: Week 2 Plan\n",
    "description: Plan for week 2\n",
    "toc: true\n",
    "comments: false\n",
    "categories: [5.A, C4.1]\n",
    "courses: { compsci: {week: 2} }\n",
    "type: plans\n",
    "catagories: [(4.1)]\n",
    "---\n"
   ]
  },
  {
   "cell_type": "markdown",
   "metadata": {},
   "source": [
    "# Week 2:\n",
    "## Calculator hacks\n",
    "- Hack 0: Right justify result\n",
    "- Hack 1: Test conditions on small, big, and decimal numbers, report on findings. Fix issues.\n",
    "- Hack 2: Add the common math operation that is missing from the calculator\n",
    "- Hack 3: Implement 1 number operation (i.e. SQRT) \n",
    "\n",
    "\n",
    "## Python Tricks:\n",
    "- Formatting messages with emojis\n",
    "- Exploring data with newspaper and wiki libraries\n",
    "- Finding code on how the library was made\n",
    "- Learning about data types\n",
    "## Project Based Learning is the concept of combining concepts to form projects.\n",
    "\n",
    "\n",
    "## JS Output with jquery:\n",
    "- Analyze:\n",
    "- Making your own tables\n",
    "- Benefit of a markdown table\n",
    "- Styling HtML table\n",
    "- Difference between HTML and JS\n",
    "- Benefit of a table using JS"
   ]
  }
 ],
 "metadata": {
  "language_info": {
   "name": "python"
  },
  "orig_nbformat": 4
 },
 "nbformat": 4,
 "nbformat_minor": 2
}
